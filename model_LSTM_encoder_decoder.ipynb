{
 "cells": [
  {
   "cell_type": "code",
   "execution_count": 5,
   "id": "33c406d3",
   "metadata": {},
   "outputs": [],
   "source": [
    "import pandas as pd\n",
    "import numpy as np\n",
    "import torch\n",
    "import random\n",
    "data = pd.read_excel(r'model_data\\东华\\data_preprocessed.xlsx',  header=0)"
   ]
  },
  {
   "cell_type": "code",
   "execution_count": 91,
   "id": "edaecc33",
   "metadata": {},
   "outputs": [],
   "source": [
    "ctrl_o2 = data[\"预热器前烟道左侧氧量2\"]\n",
    "ctrl_coal = data[[\"给煤机A瞬时煤量反馈信号\", \"给煤机B瞬时煤量反馈信号\", \"给煤机C瞬时煤量反馈信号\", \n",
    "             \"给煤机D瞬时煤量反馈信号\", \"给煤机E瞬时煤量反馈信号\"]]\n",
    "ctrl_sec = data[[\"2号角9层二次风门位置反馈\", \"2号角8层二次风门位置反馈\", \"2号角7层二次风门位置反馈\", \n",
    "                 \"2号角6层二次风门位置反馈\", \"2号角5层二次风门位置反馈\", \"2号角4层二次风门位置反馈\", \n",
    "                 \"2号角3层二次风门位置反馈\", \"2号角2层二次风门位置反馈\", \"2号角1层二次风门位置反馈\"]]\n",
    "ctrl_sofa = data[[\"2号角1层燃尽风门位置反馈\", \"2号角3层燃尽风门位置反馈\", \"2号角4层燃尽风门位置反馈\", \n",
    "                  \"2号角5层燃尽风门位置反馈\"]]"
   ]
  },
  {
   "cell_type": "markdown",
   "id": "8da28e31",
   "metadata": {},
   "source": [
    "### 绘图"
   ]
  },
  {
   "cell_type": "code",
   "execution_count": null,
   "id": "1fbb461f",
   "metadata": {},
   "outputs": [],
   "source": [
    "### "
   ]
  },
  {
   "cell_type": "code",
   "execution_count": null,
   "id": "3ae0c5a7",
   "metadata": {},
   "outputs": [],
   "source": []
  },
  {
   "cell_type": "code",
   "execution_count": null,
   "id": "a4dbdb10",
   "metadata": {},
   "outputs": [],
   "source": []
  },
  {
   "cell_type": "code",
   "execution_count": null,
   "id": "b0671b2e",
   "metadata": {},
   "outputs": [],
   "source": []
  },
  {
   "cell_type": "code",
   "execution_count": 58,
   "id": "028e3b30",
   "metadata": {},
   "outputs": [],
   "source": [
    "state_all = data[[\"#1机组负荷\", \"主蒸汽温度（左）\", \"再热蒸汽压力左\", \n",
    "                  \"再热器减温水A侧流量\", \"A磨煤机入口一次风流量\", \"B磨煤机入口一次风流量\",\n",
    "                  \"C磨煤机入口一次风流量\", \"D磨煤机入口一次风流量\", \"E磨煤机入口一次风流量\"]]\n",
    "target_etem = data[\"空预器A出口烟气温度4\"]\n",
    "target_rtem = data[\"再热蒸汽温度（左）\"]\n",
    "target_co = data[\"co_filter\"]\n",
    "target_nox = data[\"nox_filter\"]"
   ]
  },
  {
   "cell_type": "markdown",
   "id": "215a7c6c",
   "metadata": {},
   "source": [
    "### 变量的描述信息"
   ]
  },
  {
   "cell_type": "code",
   "execution_count": 37,
   "id": "a3b36492",
   "metadata": {},
   "outputs": [
    {
     "name": "stdout",
     "output_type": "stream",
     "text": [
      "分位数0.1: 131.0016920132\n",
      "分位数99.9: 288.7898373884005\n",
      "增量分位数0.1: -5.8711418235999915\n",
      "增量分位数99.9: 6.723186430000121\n"
     ]
    }
   ],
   "source": [
    "def print_distribution(data, points=[0.1,1,2,3,97,98,99,99.9]):\n",
    "    for point in points:\n",
    "        print(f\"分位数{point}:\",np.percentile(data, point))\n",
    "    data_inc = (np.roll(data, -1) - data)[:-1]\n",
    "    for point in points:\n",
    "        print(f\"增量分位数{point}:\",np.percentile(data_inc, point))\n",
    "\n",
    "print_distribution(np.array(target_nox), points=[0.1,99.9])    "
   ]
  },
  {
   "cell_type": "code",
   "execution_count": 84,
   "id": "ef640979",
   "metadata": {},
   "outputs": [],
   "source": [
    "ctrl_o2_limit = [[1.8], [4.8]]\n",
    "ctrl_coal_limit = [[0, 0, 0, 0, 0], [40, 40, 40, 40, 40]]\n",
    "ctrl_sec_limit = [[0, 0, 0, 0, 0, 0, 0, 0, 0], [75, 75, 75, 75, 75, 75, 75, 75, 75]]\n",
    "ctrl_sofa_limit = [[0, 0, 0, 0], [100, 100, 100, 100]]\n",
    "state_all_limit = [[110, 535, 1.1, 0, 0, 0, 0, 0, 0], [330, 550, 3.4, 2, 55, 55, 55, 55, 55]]\n",
    "target_etem_limit = [[117], [157]]\n",
    "target_co_limit = [[20], [1500]]\n",
    "target_nox_limit = [[130], [280]]\n",
    "target_rtem_limit = [[517], [547]]    "
   ]
  },
  {
   "cell_type": "code",
   "execution_count": 90,
   "id": "4d1d0728",
   "metadata": {},
   "outputs": [],
   "source": [
    "def shape2d(data):\n",
    "    data = np.array(data)\n",
    "    if(len(data.shape) == 1):\n",
    "        return data.reshape(len(data), 1)\n",
    "    else:\n",
    "        return data\n",
    "    \n",
    "\n",
    "def minMaxNormalize(data, min_value, max_value):\n",
    "    return (data - min_value)/(max_value - min_value)\n",
    "\n",
    "\n",
    "data_ctrl = np.concatenate([shape2d(ctrl_o2), shape2d(ctrl_coal), shape2d(ctrl_sec), shape2d(ctrl_sofa)], 1)\n",
    "data_state = shape2d(state_all)\n",
    "data_target = np.concatenate([shape2d(target_etem), shape2d(target_rtem), shape2d(target_co), shape2d(target_nox)], 1)\n",
    "\n",
    "data_ctrl_limit = np.concatenate([shape2d(ctrl_o2_limit), shape2d(ctrl_coal_limit), shape2d(ctrl_sec_limit), shape2d(ctrl_sofa_limit)], 1)\n",
    "data_state_limit = shape2d(state_all_limit)\n",
    "data_target_limit = np.concatenate([shape2d(target_etem_limit), shape2d(target_rtem_limit), shape2d(target_co_limit), shape2d(target_nox_limit)], 1)\n",
    "\n",
    "assert data_ctrl.shape[1] == data_ctrl_limit.shape[1]\n",
    "assert data_state.shape[1] == data_state_limit.shape[1]\n",
    "assert data_target.shape[1] == data_target_limit.shape[1]\n",
    "\n",
    "# normalize\n",
    "data_ctrl = minMaxNormalize(data_ctrl, data_ctrl_limit[0, :], data_ctrl_limit[1, :])\n",
    "data_state = minMaxNormalize(data_state, data_state_limit[0, :], data_state_limit[1, :])\n",
    "data_target = minMaxNormalize(data_target, data_target_limit[0, :], data_target_limit[1, :])"
   ]
  },
  {
   "cell_type": "markdown",
   "id": "5ea6af66",
   "metadata": {},
   "source": [
    "### 建立多个预测模型"
   ]
  },
  {
   "cell_type": "code",
   "execution_count": null,
   "id": "28ca1ebb",
   "metadata": {},
   "outputs": [],
   "source": []
  },
  {
   "cell_type": "code",
   "execution_count": null,
   "id": "00835ca0",
   "metadata": {},
   "outputs": [],
   "source": []
  },
  {
   "cell_type": "code",
   "execution_count": null,
   "id": "6033c47c",
   "metadata": {},
   "outputs": [],
   "source": []
  }
 ],
 "metadata": {
  "kernelspec": {
   "display_name": "torch44",
   "language": "python",
   "name": "torch44"
  },
  "language_info": {
   "codemirror_mode": {
    "name": "ipython",
    "version": 3
   },
   "file_extension": ".py",
   "mimetype": "text/x-python",
   "name": "python",
   "nbconvert_exporter": "python",
   "pygments_lexer": "ipython3",
   "version": "3.8.0"
  }
 },
 "nbformat": 4,
 "nbformat_minor": 5
}
